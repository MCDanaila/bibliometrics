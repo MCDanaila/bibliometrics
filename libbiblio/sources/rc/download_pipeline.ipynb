{
 "cells": [
  {
   "cell_type": "markdown",
   "metadata": {},
   "source": [
    "# ------------------------------------------------------------------------------------------------\n",
    "# RC Publications data download\n",
    "# ------------------------------------------------------------------------------------------------"
   ]
  },
  {
   "cell_type": "code",
   "execution_count": 1,
   "metadata": {},
   "outputs": [],
   "source": [
    "from datetime import datetime\n",
    "import os\n",
    "import pandas as pd\n",
    "import logging\n",
    "from typing import List, Tuple\n",
    "\n",
    "from utils import extract_metadata, reduce_metadata\n",
    "from service import RC_Api\n",
    "\n",
    "from constants import INPUT_DATA_PATH\n",
    "\n",
    "# Get current date in yyyy_mm_dd format\n",
    "current_date = datetime.now().strftime('%Y_%m_%d')\n",
    "\n",
    "# Configure logging\n",
    "log_dir = 'logs'\n",
    "os.makedirs(log_dir, exist_ok=True)\n",
    "log_file_path = os.path.join(log_dir, f'{current_date}_metadata_processing.log')\n",
    "\n",
    "logger = logging.getLogger('metadata_logger')\n",
    "if not logger.hasHandlers():\n",
    "    logger.setLevel(logging.INFO)\n",
    "    file_handler = logging.FileHandler(log_file_path)\n",
    "    formatter = logging.Formatter('%(asctime)s - %(levelname)s - %(message)s')\n",
    "    file_handler.setFormatter(formatter)\n",
    "    logger.addHandler(file_handler)\n"
   ]
  },
  {
   "cell_type": "code",
   "execution_count": 2,
   "metadata": {},
   "outputs": [],
   "source": [
    "LIMIT = 250\n",
    "\n",
    "def query_api(year: int) -> Tuple[List[dict], int]:\n",
    "    query = f'dc.date.issued:\"{year}\"'\n",
    "    page = 0\n",
    "    total_records = 0\n",
    "    metadata = []\n",
    "    logger.info(f'START - Retrieving {page=} {year=} ...')\n",
    "    while (page * LIMIT <= total_records):\n",
    "        if page > 0:\n",
    "            logger.info(f'Retrieving {page=} {year=} ...')\n",
    "        offset = page * LIMIT\n",
    "        parameters_search = {\n",
    "            \"limit\": LIMIT,\n",
    "            \"offset\": offset,\n",
    "            \"expand\": \"metadata\",\n",
    "            \"query\": query\n",
    "        }\n",
    "        res_obj = RC_Api.search(parameters=parameters_search)\n",
    "        if not res_obj:\n",
    "            logger.info(f'DONE - No records for {year=}')\n",
    "            break\n",
    "        metadata.extend(map(extract_metadata, res_obj))\n",
    "        total_records += len(res_obj)\n",
    "        page += 1\n",
    "        logger.info(f'Retrieved {total_records} records for {year}')\n",
    "    logger.info(f'DONE - Retrieved page={page-1} {total_records=} {year=}')\n",
    "    return metadata, total_records\n",
    "\n",
    "def download_metadata(years: List[int]) -> None:\n",
    "    for year in years:\n",
    "        metadata, total_records = query_api(year)\n",
    "        if total_records > 0:\n",
    "            reduced_metadata = reduce_metadata(metadata)\n",
    "            df = pd.DataFrame(reduced_metadata, dtype=str)\n",
    "            path_to_save = os.path.join(INPUT_DATA_PATH, f'{year}_metadata.csv')\n",
    "            df.to_csv(path_to_save, index=False, escapechar='\\n', encoding='utf-8')\n",
    "            logger.info(f'Saved metadata for {year} to {path_to_save}')"
   ]
  },
  {
   "cell_type": "code",
   "execution_count": 5,
   "metadata": {},
   "outputs": [],
   "source": [
    "#download_metadata(range(1900, 2025))\n",
    "download_metadata(range(2026, 2027))\n"
   ]
  },
  {
   "cell_type": "code",
   "execution_count": null,
   "metadata": {},
   "outputs": [
    {
     "data": {
      "text/plain": [
       "' \\ndef query_api(year: int):\\n    query = f\\'dc.date.issued:\"{year}\"\\'\\n    page = 0\\n    total_records = 0\\n    metadata = []\\n    print(f\\'== INFO - START - Retriving {page=} {year=} ...\\')\\n    while (page*LIMIT <= total_records):\\n        if page > 0:\\n            print(f\\'== INFO - Retriving {page=} {year=} ...\\')\\n        offset = page * LIMIT\\n        parameters_search = {\\n            \"limit\": LIMIT,\\n            \"offset\": offset,\\n            \"expand\": \"metadata\",\\n            \"query\": query\\n        }\\n        res_obj = RC_Api.search(parameters = parameters_search)\\n        if not res_obj:\\n            print(f\\'== INFO - DONE - No records for {year=}\\')\\n            break\\n        metadata.extend(map(extract_metadata, res_obj))\\n        total_records += len(res_obj)\\n        page += 1\\n        print(f\\'== INFO - Retrieved {total_records} records for {year}\\')\\n    print(f\\'== INFO - DONE - Retrived page={page-1} {total_records=} {year=}\\')\\n    return metadata, total_records\\n\\ndef download_metadata(years: list):\\n    for year in years:\\n        metadata, total_records = query_api(year)\\n        if total_records > 0:\\n            reduced_metadata = reduce_metadata(metadata)\\n            df = pd.DataFrame(reduced_metadata, dtype=str)\\n            path_to_save = os.path.join(INPUT_DATA_PATH, f\\'{year}_metadata.csv\\')\\n            df.to_csv(path_to_save, index=False, escapechar=\\'\\n\\', encoding=\\'utf-8\\')\\n            print(f\\'== INFO - Saved metadata for {year} to {path_to_save}\\') '"
      ]
     },
     "execution_count": 11,
     "metadata": {},
     "output_type": "execute_result"
    }
   ],
   "source": [
    "\"\"\" \n",
    "def query_api(year: int):\n",
    "    query = f'dc.date.issued:\"{year}\"'\n",
    "    page = 0\n",
    "    total_records = 0\n",
    "    metadata = []\n",
    "    print(f'== INFO - START - Retriving {page=} {year=} ...')\n",
    "    while (page*LIMIT <= total_records):\n",
    "        if page > 0:\n",
    "            print(f'== INFO - Retriving {page=} {year=} ...')\n",
    "        offset = page * LIMIT\n",
    "        parameters_search = {\n",
    "            \"limit\": LIMIT,\n",
    "            \"offset\": offset,\n",
    "            \"expand\": \"metadata\",\n",
    "            \"query\": query\n",
    "        }\n",
    "        res_obj = RC_Api.search(parameters = parameters_search)\n",
    "        if not res_obj:\n",
    "            print(f'== INFO - DONE - No records for {year=}')\n",
    "            break\n",
    "        metadata.extend(map(extract_metadata, res_obj))\n",
    "        total_records += len(res_obj)\n",
    "        page += 1\n",
    "        print(f'== INFO - Retrieved {total_records} records for {year}')\n",
    "    print(f'== INFO - DONE - Retrived page={page-1} {total_records=} {year=}')\n",
    "    return metadata, total_records\n",
    "\n",
    "def download_metadata(years: list):\n",
    "    for year in years:\n",
    "        metadata, total_records = query_api(year)\n",
    "        if total_records > 0:\n",
    "            reduced_metadata = reduce_metadata(metadata)\n",
    "            df = pd.DataFrame(reduced_metadata, dtype=str)\n",
    "            path_to_save = os.path.join(INPUT_DATA_PATH, f'{year}_metadata.csv')\n",
    "            df.to_csv(path_to_save, index=False, escapechar='\\n', encoding='utf-8')\n",
    "            print(f'== INFO - Saved metadata for {year} to {path_to_save}') \"\"\""
   ]
  },
  {
   "cell_type": "code",
   "execution_count": null,
   "metadata": {},
   "outputs": [],
   "source": [
    "#download_metadata(range(2020, 2022))"
   ]
  },
  {
   "cell_type": "markdown",
   "metadata": {},
   "source": [
    "# ------------------------------------------------------------------------------------------------\n",
    "# CKONSORG DOWNLOAD\n",
    "# ------------------------------------------------------------------------------------------------"
   ]
  },
  {
   "cell_type": "code",
   "execution_count": 1,
   "metadata": {},
   "outputs": [
    {
     "name": "stdout",
     "output_type": "stream",
     "text": [
      "INFO - Connected to DB: <bound method PSQL_DB.__repr__ of Postgres('biblioowner', <password hidden>, 'id-hdb-psgr-cp46.ethz.ch', '5432', 'bibliometrics')>\n",
      "Data successfully exported to /home/bibliometric/data/research_collection/ckonsorg/ckonsorg_202408.csv\n"
     ]
    }
   ],
   "source": [
    "import oracledb\n",
    "import pandas as pd\n",
    "import os\n",
    "from dotenv import load_dotenv\n",
    "from utils import get_latest_ckonsorg_filename\n",
    "from constants import PATH_TO_CKONSORG_DATA\n",
    "\n",
    "load_dotenv()\n",
    "\n",
    "# Define your database connection parameters\n",
    "dsn_tns = oracledb.makedsn(os.environ.get(\"CKONSORG_HOST\"), '1521', service_name=os.environ.get(\"CKONSORG_DB\"))\n",
    "\n",
    " # Define the output CSV file path\n",
    "csv_file_path = PATH_TO_CKONSORG_DATA + get_latest_ckonsorg_filename()\n",
    "\n",
    "try:\n",
    "    # Establish the database connection\n",
    "    connection = oracledb.connect(user=os.environ.get(\"CKONSORG_USERNAME\"), \n",
    "\t\t\t\t\t\t\t\t\tpassword=os.environ.get(\"CKONSORG_PASSWORD\"), \n",
    "\t\t\t\t\t\t\t\t\tdsn=dsn_tns)\n",
    "\n",
    "    # Create a cursor object using the cursor() method\n",
    "    cursor = connection.cursor()\n",
    "\n",
    "    # Define the SQL query\n",
    "    sql_query = 'SELECT * FROM CO.VW_CKONSORG421A_Q_AKTUELL_KOM'\n",
    "\n",
    "    # Execute the SQL query\n",
    "    cursor.execute(sql_query)\n",
    "\n",
    "    # Fetch all the rows from the executed query\n",
    "    rows = cursor.fetchall()\n",
    "\n",
    "    # Fetch column names\n",
    "    col_names = [i[0] for i in cursor.description]\n",
    "\n",
    "    # Create a DataFrame from the fetched data\n",
    "    df = pd.DataFrame(rows, columns=col_names)\n",
    "\n",
    "    # Export the DataFrame to a CSV file\n",
    "    df.to_csv(csv_file_path, index=False)\n",
    "\n",
    "    print(f\"Data successfully exported to {csv_file_path}\")\n",
    "\n",
    "except oracledb.DatabaseError as e:\n",
    "    print(f\"Database error occurred: {e}\")\n",
    "\n",
    "finally:\n",
    "    # Close the cursor and connection\n",
    "    if cursor:\n",
    "        cursor.close()\n",
    "    if connection:\n",
    "        connection.close()"
   ]
  }
 ],
 "metadata": {
  "kernelspec": {
   "display_name": "biblio",
   "language": "python",
   "name": "python3"
  },
  "language_info": {
   "codemirror_mode": {
    "name": "ipython",
    "version": 3
   },
   "file_extension": ".py",
   "mimetype": "text/x-python",
   "name": "python",
   "nbconvert_exporter": "python",
   "pygments_lexer": "ipython3",
   "version": "3.8.10"
  }
 },
 "nbformat": 4,
 "nbformat_minor": 2
}
